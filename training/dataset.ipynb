{
 "cells": [
  {
   "cell_type": "code",
   "execution_count": null,
   "metadata": {},
   "outputs": [],
   "source": [
    "import splitfolders\n",
    "import shutil\n",
    "import os\n",
    "\n",
    "source_dir = 'datasets\\\\PlantVillage\\\\Original'\n",
    "\n",
    "output_dir = 'datasets\\\\PlantVillage\\\\Split'\n",
    "\n",
    "if os.path.exists(output_dir):\n",
    "  shutil.rmtree(output_dir)\n",
    "\n",
    "# Split with a ratio.\n",
    "splitfolders.ratio(source_dir, output=output_dir,\n",
    "    seed=1337, ratio=(.8, .1, .1), group_prefix=None, move=False)\n"
   ]
  }
 ],
 "metadata": {
  "kernelspec": {
   "display_name": "Python 3",
   "language": "python",
   "name": "python3"
  },
  "language_info": {
   "name": "python",
   "version": "3.8.5 (tags/v3.8.5:580fbb0, Jul 20 2020, 15:57:54) [MSC v.1924 64 bit (AMD64)]"
  },
  "orig_nbformat": 4,
  "vscode": {
   "interpreter": {
    "hash": "5ff5ac61870afef2f92de208f8d497b668dbb82d4efec62ea5e0e67a445f7300"
   }
  }
 },
 "nbformat": 4,
 "nbformat_minor": 2
}
